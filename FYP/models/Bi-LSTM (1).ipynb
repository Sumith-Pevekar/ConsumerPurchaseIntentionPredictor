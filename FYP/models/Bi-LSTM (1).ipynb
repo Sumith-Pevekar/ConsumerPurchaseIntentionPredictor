{
 "cells": [
  {
   "cell_type": "code",
   "execution_count": 1,
   "id": "beeb5791-ea09-4426-9f99-7549b268588c",
   "metadata": {},
   "outputs": [
    {
     "name": "stderr",
     "output_type": "stream",
     "text": [
      "[nltk_data] Downloading package stopwords to\n",
      "[nltk_data]     C:\\Users\\Lenovo\\AppData\\Roaming\\nltk_data...\n",
      "[nltk_data]   Package stopwords is already up-to-date!\n"
     ]
    }
   ],
   "source": [
    "import pandas as pd\n",
    "import re\n",
    "from random import random\n",
    "from numpy import array\n",
    "from numpy import cumsum\n",
    "\n",
    "import nltk\n",
    "from nltk.corpus import stopwords\n",
    "nltk.download('stopwords')\n",
    "from nltk.stem import SnowballStemmer\n",
    "from nltk.tokenize import TweetTokenizer\n",
    "\n",
    "from sklearn.model_selection import train_test_split\n",
    "from sklearn.metrics import classification_report\n",
    "\n",
    "from keras.models import Sequential\n",
    "from keras.layers import Dense\n",
    "from keras.layers import Bidirectional\n",
    "from keras.layers import LSTM,SpatialDropout1D\n",
    "from keras.layers.embeddings import Embedding\n",
    "from keras.preprocessing import sequence\n",
    "from keras.preprocessing.text import Tokenizer"
   ]
  },
  {
   "cell_type": "code",
   "execution_count": 2,
   "id": "052bee50-536a-427f-986e-092f1c591100",
   "metadata": {},
   "outputs": [
    {
     "data": {
      "text/html": [
       "<div>\n",
       "<style scoped>\n",
       "    .dataframe tbody tr th:only-of-type {\n",
       "        vertical-align: middle;\n",
       "    }\n",
       "\n",
       "    .dataframe tbody tr th {\n",
       "        vertical-align: top;\n",
       "    }\n",
       "\n",
       "    .dataframe thead th {\n",
       "        text-align: right;\n",
       "    }\n",
       "</style>\n",
       "<table border=\"1\" class=\"dataframe\">\n",
       "  <thead>\n",
       "    <tr style=\"text-align: right;\">\n",
       "      <th></th>\n",
       "      <th>class</th>\n",
       "      <th>text</th>\n",
       "      <th>Unnamed: 2</th>\n",
       "    </tr>\n",
       "  </thead>\n",
       "  <tbody>\n",
       "    <tr>\n",
       "      <th>0</th>\n",
       "      <td>PI</td>\n",
       "      <td>What's the difference between the  iPhone X  a...</td>\n",
       "      <td>NaN</td>\n",
       "    </tr>\n",
       "    <tr>\n",
       "      <th>1</th>\n",
       "      <td>no</td>\n",
       "      <td>@ siracusa  just listened to Hypercritical #16...</td>\n",
       "      <td>NaN</td>\n",
       "    </tr>\n",
       "    <tr>\n",
       "      <th>2</th>\n",
       "      <td>PI</td>\n",
       "      <td>Same.  IPhone X  won't be bad   https:// twitt...</td>\n",
       "      <td>NaN</td>\n",
       "    </tr>\n",
       "    <tr>\n",
       "      <th>3</th>\n",
       "      <td>no</td>\n",
       "      <td>Ive had the iphone 8 plus and  iphone x  and i...</td>\n",
       "      <td>NaN</td>\n",
       "    </tr>\n",
       "    <tr>\n",
       "      <th>4</th>\n",
       "      <td>no</td>\n",
       "      <td>“  iphone x  for £150” do i have dickhead writ...</td>\n",
       "      <td>NaN</td>\n",
       "    </tr>\n",
       "  </tbody>\n",
       "</table>\n",
       "</div>"
      ],
      "text/plain": [
       "  class                                               text Unnamed: 2\n",
       "0    PI  What's the difference between the  iPhone X  a...        NaN\n",
       "1    no  @ siracusa  just listened to Hypercritical #16...        NaN\n",
       "2    PI  Same.  IPhone X  won't be bad   https:// twitt...        NaN\n",
       "3    no  Ive had the iphone 8 plus and  iphone x  and i...        NaN\n",
       "4    no  “  iphone x  for £150” do i have dickhead writ...        NaN"
      ]
     },
     "execution_count": 2,
     "metadata": {},
     "output_type": "execute_result"
    }
   ],
   "source": [
    "data=pd.read_csv(r\"F:\\FYP-II-master\\data\\training.csv\")\n",
    "data.head()"
   ]
  },
  {
   "cell_type": "code",
   "execution_count": 3,
   "id": "4ea81b8e-d787-422b-a851-3e0015e0d12c",
   "metadata": {},
   "outputs": [],
   "source": [
    "data=data.drop(columns=['Unnamed: 2'])"
   ]
  },
  {
   "cell_type": "code",
   "execution_count": 4,
   "id": "fb9384ed-f48f-4941-9b2f-e0c8e89e16fa",
   "metadata": {},
   "outputs": [
    {
     "data": {
      "text/html": [
       "<div>\n",
       "<style scoped>\n",
       "    .dataframe tbody tr th:only-of-type {\n",
       "        vertical-align: middle;\n",
       "    }\n",
       "\n",
       "    .dataframe tbody tr th {\n",
       "        vertical-align: top;\n",
       "    }\n",
       "\n",
       "    .dataframe thead th {\n",
       "        text-align: right;\n",
       "    }\n",
       "</style>\n",
       "<table border=\"1\" class=\"dataframe\">\n",
       "  <thead>\n",
       "    <tr style=\"text-align: right;\">\n",
       "      <th></th>\n",
       "      <th>class</th>\n",
       "      <th>text</th>\n",
       "    </tr>\n",
       "  </thead>\n",
       "  <tbody>\n",
       "    <tr>\n",
       "      <th>0</th>\n",
       "      <td>PI</td>\n",
       "      <td>What's the difference between the  iPhone X  a...</td>\n",
       "    </tr>\n",
       "    <tr>\n",
       "      <th>1</th>\n",
       "      <td>no</td>\n",
       "      <td>@ siracusa  just listened to Hypercritical #16...</td>\n",
       "    </tr>\n",
       "    <tr>\n",
       "      <th>2</th>\n",
       "      <td>PI</td>\n",
       "      <td>Same.  IPhone X  won't be bad   https:// twitt...</td>\n",
       "    </tr>\n",
       "    <tr>\n",
       "      <th>3</th>\n",
       "      <td>no</td>\n",
       "      <td>Ive had the iphone 8 plus and  iphone x  and i...</td>\n",
       "    </tr>\n",
       "    <tr>\n",
       "      <th>4</th>\n",
       "      <td>no</td>\n",
       "      <td>“  iphone x  for £150” do i have dickhead writ...</td>\n",
       "    </tr>\n",
       "    <tr>\n",
       "      <th>5</th>\n",
       "      <td>PI</td>\n",
       "      <td>This  iPhone X  still very sexy a year later</td>\n",
       "    </tr>\n",
       "    <tr>\n",
       "      <th>7</th>\n",
       "      <td>PI</td>\n",
       "      <td>If not I'm using my kidney. Omo what is ferrar...</td>\n",
       "    </tr>\n",
       "    <tr>\n",
       "      <th>8</th>\n",
       "      <td>PI</td>\n",
       "      <td>iPhone X 's max for sale</td>\n",
       "    </tr>\n",
       "    <tr>\n",
       "      <th>9</th>\n",
       "      <td>no</td>\n",
       "      <td>Someone once told me that.....\\n\\nBut I've nev...</td>\n",
       "    </tr>\n",
       "    <tr>\n",
       "      <th>10</th>\n",
       "      <td>PI</td>\n",
       "      <td>screenshots from the  iphone x  look so clapped</td>\n",
       "    </tr>\n",
       "  </tbody>\n",
       "</table>\n",
       "</div>"
      ],
      "text/plain": [
       "   class                                               text\n",
       "0     PI  What's the difference between the  iPhone X  a...\n",
       "1     no  @ siracusa  just listened to Hypercritical #16...\n",
       "2     PI  Same.  IPhone X  won't be bad   https:// twitt...\n",
       "3     no  Ive had the iphone 8 plus and  iphone x  and i...\n",
       "4     no  “  iphone x  for £150” do i have dickhead writ...\n",
       "5     PI       This  iPhone X  still very sexy a year later\n",
       "7     PI  If not I'm using my kidney. Omo what is ferrar...\n",
       "8     PI                           iPhone X 's max for sale\n",
       "9     no  Someone once told me that.....\\n\\nBut I've nev...\n",
       "10    PI    screenshots from the  iphone x  look so clapped"
      ]
     },
     "execution_count": 4,
     "metadata": {},
     "output_type": "execute_result"
    }
   ],
   "source": [
    "data['class']=data['class'].replace(['Undefined','undefined'],'un')\n",
    "data=data[data['class']!='un']\n",
    "data.head(10)"
   ]
  },
  {
   "cell_type": "code",
   "execution_count": 5,
   "id": "ea3563d6-5a01-4096-a722-a07d68638747",
   "metadata": {},
   "outputs": [],
   "source": [
    "replace_space=re.compile('[/(){}\\[\\]\\|@,;]')\n",
    "replace_bad_symbol=re.compile('[^0-9a-z #+_]')\n",
    "Stopwords=set(stopwords.words('english'))"
   ]
  },
  {
   "cell_type": "code",
   "execution_count": 6,
   "id": "ff7b5a38-27e6-4d92-b788-22bc167defb6",
   "metadata": {},
   "outputs": [
    {
     "data": {
      "text/html": [
       "<div>\n",
       "<style scoped>\n",
       "    .dataframe tbody tr th:only-of-type {\n",
       "        vertical-align: middle;\n",
       "    }\n",
       "\n",
       "    .dataframe tbody tr th {\n",
       "        vertical-align: top;\n",
       "    }\n",
       "\n",
       "    .dataframe thead th {\n",
       "        text-align: right;\n",
       "    }\n",
       "</style>\n",
       "<table border=\"1\" class=\"dataframe\">\n",
       "  <thead>\n",
       "    <tr style=\"text-align: right;\">\n",
       "      <th></th>\n",
       "      <th>class</th>\n",
       "      <th>text</th>\n",
       "    </tr>\n",
       "  </thead>\n",
       "  <tbody>\n",
       "    <tr>\n",
       "      <th>0</th>\n",
       "      <td>PI</td>\n",
       "      <td>whats difference iphone x iphone x x max</td>\n",
       "    </tr>\n",
       "    <tr>\n",
       "      <th>1</th>\n",
       "      <td>no</td>\n",
       "      <td>siracusa listened hypercritical #16 whole epis...</td>\n",
       "    </tr>\n",
       "    <tr>\n",
       "      <th>2</th>\n",
       "      <td>PI</td>\n",
       "      <td>iphone x wont bad https twittercom afuaasam st...</td>\n",
       "    </tr>\n",
       "    <tr>\n",
       "      <th>3</th>\n",
       "      <td>no</td>\n",
       "      <td>ive iphone 8 plus iphone x id say iphone 8 plu...</td>\n",
       "    </tr>\n",
       "    <tr>\n",
       "      <th>4</th>\n",
       "      <td>no</td>\n",
       "      <td>iphone x 150 dickhead written</td>\n",
       "    </tr>\n",
       "    <tr>\n",
       "      <th>5</th>\n",
       "      <td>PI</td>\n",
       "      <td>iphone x still sexy year later</td>\n",
       "    </tr>\n",
       "    <tr>\n",
       "      <th>7</th>\n",
       "      <td>PI</td>\n",
       "      <td>im using kidney omo ferrari buggati iphone x m...</td>\n",
       "    </tr>\n",
       "    <tr>\n",
       "      <th>8</th>\n",
       "      <td>PI</td>\n",
       "      <td>iphone x max sale</td>\n",
       "    </tr>\n",
       "    <tr>\n",
       "      <th>9</th>\n",
       "      <td>no</td>\n",
       "      <td>someone told thatbut ive never seen ios turned...</td>\n",
       "    </tr>\n",
       "    <tr>\n",
       "      <th>10</th>\n",
       "      <td>PI</td>\n",
       "      <td>screenshots iphone x look clapped</td>\n",
       "    </tr>\n",
       "  </tbody>\n",
       "</table>\n",
       "</div>"
      ],
      "text/plain": [
       "   class                                               text\n",
       "0     PI           whats difference iphone x iphone x x max\n",
       "1     no  siracusa listened hypercritical #16 whole epis...\n",
       "2     PI  iphone x wont bad https twittercom afuaasam st...\n",
       "3     no  ive iphone 8 plus iphone x id say iphone 8 plu...\n",
       "4     no                      iphone x 150 dickhead written\n",
       "5     PI                     iphone x still sexy year later\n",
       "7     PI  im using kidney omo ferrari buggati iphone x m...\n",
       "8     PI                                  iphone x max sale\n",
       "9     no  someone told thatbut ive never seen ios turned...\n",
       "10    PI                  screenshots iphone x look clapped"
      ]
     },
     "execution_count": 6,
     "metadata": {},
     "output_type": "execute_result"
    }
   ],
   "source": [
    "def clean_text(text):\n",
    "    text=text.lower()\n",
    "    text=replace_space.sub(' ',text)\n",
    "    text=replace_bad_symbol.sub('',text)\n",
    "\n",
    "    text=' '.join(word for word in text.split() if word not in Stopwords)\n",
    "    return text\n",
    "\n",
    "data['text']=data['text'].apply(clean_text)\n",
    "data.head(10)"
   ]
  },
  {
   "cell_type": "code",
   "execution_count": 7,
   "id": "8fa2451d-43d8-42d9-a63b-28b4357f8b00",
   "metadata": {},
   "outputs": [
    {
     "data": {
      "text/plain": [
       "(906, 250)"
      ]
     },
     "execution_count": 7,
     "metadata": {},
     "output_type": "execute_result"
    }
   ],
   "source": [
    "t=Tokenizer(num_words=50000,lower=True)\n",
    "t.fit_on_texts(data['text'])\n",
    "x=t.texts_to_sequences(data['text'])\n",
    "x=sequence.pad_sequences(x,maxlen=250)\n",
    "x.shape"
   ]
  },
  {
   "cell_type": "code",
   "execution_count": 8,
   "id": "772d2fbf-5b4b-4eae-8def-9e6b9fbf97d7",
   "metadata": {},
   "outputs": [
    {
     "data": {
      "text/html": [
       "<div>\n",
       "<style scoped>\n",
       "    .dataframe tbody tr th:only-of-type {\n",
       "        vertical-align: middle;\n",
       "    }\n",
       "\n",
       "    .dataframe tbody tr th {\n",
       "        vertical-align: top;\n",
       "    }\n",
       "\n",
       "    .dataframe thead th {\n",
       "        text-align: right;\n",
       "    }\n",
       "</style>\n",
       "<table border=\"1\" class=\"dataframe\">\n",
       "  <thead>\n",
       "    <tr style=\"text-align: right;\">\n",
       "      <th></th>\n",
       "      <th>class</th>\n",
       "      <th>text</th>\n",
       "    </tr>\n",
       "  </thead>\n",
       "  <tbody>\n",
       "    <tr>\n",
       "      <th>0</th>\n",
       "      <td>1</td>\n",
       "      <td>whats difference iphone x iphone x x max</td>\n",
       "    </tr>\n",
       "    <tr>\n",
       "      <th>1</th>\n",
       "      <td>0</td>\n",
       "      <td>siracusa listened hypercritical #16 whole epis...</td>\n",
       "    </tr>\n",
       "    <tr>\n",
       "      <th>2</th>\n",
       "      <td>1</td>\n",
       "      <td>iphone x wont bad https twittercom afuaasam st...</td>\n",
       "    </tr>\n",
       "    <tr>\n",
       "      <th>3</th>\n",
       "      <td>0</td>\n",
       "      <td>ive iphone 8 plus iphone x id say iphone 8 plu...</td>\n",
       "    </tr>\n",
       "    <tr>\n",
       "      <th>4</th>\n",
       "      <td>0</td>\n",
       "      <td>iphone x 150 dickhead written</td>\n",
       "    </tr>\n",
       "    <tr>\n",
       "      <th>5</th>\n",
       "      <td>1</td>\n",
       "      <td>iphone x still sexy year later</td>\n",
       "    </tr>\n",
       "    <tr>\n",
       "      <th>7</th>\n",
       "      <td>1</td>\n",
       "      <td>im using kidney omo ferrari buggati iphone x m...</td>\n",
       "    </tr>\n",
       "    <tr>\n",
       "      <th>8</th>\n",
       "      <td>1</td>\n",
       "      <td>iphone x max sale</td>\n",
       "    </tr>\n",
       "    <tr>\n",
       "      <th>9</th>\n",
       "      <td>0</td>\n",
       "      <td>someone told thatbut ive never seen ios turned...</td>\n",
       "    </tr>\n",
       "    <tr>\n",
       "      <th>10</th>\n",
       "      <td>1</td>\n",
       "      <td>screenshots iphone x look clapped</td>\n",
       "    </tr>\n",
       "  </tbody>\n",
       "</table>\n",
       "</div>"
      ],
      "text/plain": [
       "    class                                               text\n",
       "0       1           whats difference iphone x iphone x x max\n",
       "1       0  siracusa listened hypercritical #16 whole epis...\n",
       "2       1  iphone x wont bad https twittercom afuaasam st...\n",
       "3       0  ive iphone 8 plus iphone x id say iphone 8 plu...\n",
       "4       0                      iphone x 150 dickhead written\n",
       "5       1                     iphone x still sexy year later\n",
       "7       1  im using kidney omo ferrari buggati iphone x m...\n",
       "8       1                                  iphone x max sale\n",
       "9       0  someone told thatbut ive never seen ios turned...\n",
       "10      1                  screenshots iphone x look clapped"
      ]
     },
     "execution_count": 8,
     "metadata": {},
     "output_type": "execute_result"
    }
   ],
   "source": [
    "data['class']=data['class'].replace(['no','No'],0)\n",
    "data['class']=data['class'].replace(['Pl','PI','yes','Yes'],1)\n",
    "data.head(10)"
   ]
  },
  {
   "cell_type": "code",
   "execution_count": 9,
   "id": "d701dc66-5e1b-4f73-913e-3ae232861f22",
   "metadata": {},
   "outputs": [
    {
     "name": "stdout",
     "output_type": "stream",
     "text": [
      "(815, 250) (91, 250)\n",
      "(815, 2) (91, 2)\n"
     ]
    },
    {
     "data": {
      "text/plain": [
       "array([[0, 1],\n",
       "       [1, 0],\n",
       "       [0, 1],\n",
       "       ...,\n",
       "       [1, 0],\n",
       "       [1, 0],\n",
       "       [1, 0]], dtype=uint8)"
      ]
     },
     "execution_count": 9,
     "metadata": {},
     "output_type": "execute_result"
    }
   ],
   "source": [
    "y=pd.get_dummies(data['class']).values\n",
    "x_train,x_test,y_train,y_test=train_test_split(x,y,test_size=0.1)\n",
    "print(x_train.shape,x_test.shape)\n",
    "print(y_train.shape,y_test.shape)\n",
    "y"
   ]
  },
  {
   "cell_type": "code",
   "execution_count": 10,
   "id": "e9b4b2f3-3dd8-472c-a376-a23bcea9d290",
   "metadata": {},
   "outputs": [
    {
     "name": "stdout",
     "output_type": "stream",
     "text": [
      "Epoch 1/5\n",
      "12/12 [==============================] - 31s 802ms/step - loss: 0.6793 - accuracy: 0.5437 - val_loss: 0.6471 - val_accuracy: 0.6341\n",
      "Epoch 2/5\n",
      "12/12 [==============================] - 10s 836ms/step - loss: 0.6468 - accuracy: 0.6179 - val_loss: 0.6272 - val_accuracy: 0.6341\n",
      "Epoch 3/5\n",
      "12/12 [==============================] - 11s 955ms/step - loss: 0.5871 - accuracy: 0.6468 - val_loss: 0.5396 - val_accuracy: 0.8049\n",
      "Epoch 4/5\n",
      "12/12 [==============================] - 10s 872ms/step - loss: 0.4618 - accuracy: 0.8730 - val_loss: 0.6035 - val_accuracy: 0.7317\n",
      "Epoch 5/5\n",
      "12/12 [==============================] - 10s 849ms/step - loss: 0.3925 - accuracy: 0.9001 - val_loss: 0.6093 - val_accuracy: 0.7317\n"
     ]
    }
   ],
   "source": [
    "model=Sequential()\n",
    "model.add(Embedding(50000,100,input_length=x.shape[1]))\n",
    "model.add(Bidirectional(LSTM(100,dropout=0.2)))\n",
    "model.add(Dense(2,activation='sigmoid'))\n",
    "model.compile(loss='categorical_crossentropy',optimizer='adam',metrics=['accuracy'])\n",
    "\n",
    "fit=model.fit(x_train,y_train,epochs=5,batch_size=64,validation_split=0.1)"
   ]
  },
  {
   "cell_type": "code",
   "execution_count": 11,
   "id": "1d8cebea-7570-473f-ae51-168af40f9792",
   "metadata": {},
   "outputs": [
    {
     "name": "stdout",
     "output_type": "stream",
     "text": [
      "3/3 [==============================] - 0s 65ms/step - loss: 0.5844 - accuracy: 0.7143\n"
     ]
    }
   ],
   "source": [
    "acr=model.evaluate(x_test,y_test)"
   ]
  },
  {
   "cell_type": "code",
   "execution_count": 12,
   "id": "00d60da3-caa1-466c-a197-b0860ba1903b",
   "metadata": {},
   "outputs": [],
   "source": [
    "# # create a sequence classification instance\n",
    "# def get_sequence(n_timesteps):\n",
    "#     # create a sequence of random numbers in [0,1]\n",
    "#     X = array([random() for _ in range(n_timesteps)])\n",
    "#     # calculate cut-off value to change class values\n",
    "#     limit = n_timesteps/4.0\n",
    "#     # determine the class outcome for each item in cumulative sequence\n",
    "#     y = array([0 if x < limit else 1 for x in cumsum(X)])\n",
    "#     # reshape input and output data to be suitable for LSTMs\n",
    "#     X = X.reshape(1, n_timesteps, 1)\n",
    "#     y = y.reshape(1, n_timesteps, 1)\n",
    "#     return X, y\n",
    "\n",
    "# # define problem properties\n",
    "# n_timesteps = 10\n",
    "# # define LSTM\n",
    "# model = Sequential()\n",
    "# model.add(Bidirectional(LSTM(100, return_sequences=True), input_shape=(n_timesteps, 1)))\n",
    "# model.add(TimeDistributed(Dense(1, activation='sigmoid')))\n",
    "# model.compile(loss='binary_crossentropy', optimizer='adam', metrics=['accuracy'])\n",
    "# # train LSTM\n",
    "# for epoch in range(1000):\n",
    "#     # generate new random sequence\n",
    "#     X,y = get_sequence(n_timesteps)\n",
    "#     # fit model for one epoch on this sequence\n",
    "#     model.fit(X, y, epochs=1, batch_size=1, verbose=2)\n",
    "#     # evaluate LSTM\n",
    "# X,y = get_sequence(n_timesteps)\n",
    "# yhat = model.predict_classes(X, verbose=0)\n",
    "# for i in range(n_timesteps):\n",
    "#     print('Expected:', y[0, i], 'Predicted', yhat[0, i])"
   ]
  },
  {
   "cell_type": "code",
   "execution_count": null,
   "id": "110157da-453b-40b4-b3ab-1dc596b79f74",
   "metadata": {},
   "outputs": [],
   "source": []
  }
 ],
 "metadata": {
  "kernelspec": {
   "display_name": "Python 3",
   "language": "python",
   "name": "python3"
  },
  "language_info": {
   "codemirror_mode": {
    "name": "ipython",
    "version": 3
   },
   "file_extension": ".py",
   "mimetype": "text/x-python",
   "name": "python",
   "nbconvert_exporter": "python",
   "pygments_lexer": "ipython3",
   "version": "3.8.8"
  }
 },
 "nbformat": 4,
 "nbformat_minor": 5
}
